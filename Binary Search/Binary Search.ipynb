{
 "cells": [
  {
   "cell_type": "code",
   "execution_count": 29,
   "id": "37e06be1",
   "metadata": {},
   "outputs": [
    {
     "name": "stdout",
     "output_type": "stream",
     "text": [
      "6\n"
     ]
    }
   ],
   "source": [
    "#binary search\n",
    "def b_search(array,target):\n",
    "    start, end = 0,len(array)-1\n",
    "    while(start<=end):\n",
    "        #find mid index\n",
    "        mid = start + (end-start)//2\n",
    "        #case 1 : element at mid index is equals to target element -> voila, element found!\n",
    "        if array[mid] == target:\n",
    "            return mid\n",
    "        #case 2 : element at mid index is less  than target element -> search in right direction\n",
    "        elif array[mid] < target:\n",
    "            start = mid + 1\n",
    "        #case 3 : element at mid index is greater than target element ->search in left direction\n",
    "        else:\n",
    "            end = mid-1\n",
    "    return -1\n",
    "array1 = [1,2,3,4,6,9,17]\n",
    "res = b_search(array1,17)\n",
    "print(res)"
   ]
  },
  {
   "cell_type": "code",
   "execution_count": 30,
   "id": "12342a70",
   "metadata": {},
   "outputs": [
    {
     "name": "stdout",
     "output_type": "stream",
     "text": [
      "0\n"
     ]
    }
   ],
   "source": [
    "#binary search on reverse sorted array\n",
    "def b_search_rev(array,target):\n",
    "    start,end = 0,len(array) -1\n",
    "    while(start<=end):\n",
    "        mid = start + (end-start)//2\n",
    "        if array[mid] == target:\n",
    "            return mid\n",
    "        elif array[mid] < target:\n",
    "            end = mid -1\n",
    "        else:\n",
    "            start = mid + 1\n",
    "    return -1\n",
    "array2 = [5,3,2,1]\n",
    "res2 = b_search_rev(array2,5)\n",
    "print(res2)\n"
   ]
  },
  {
   "cell_type": "code",
   "execution_count": 31,
   "id": "cb028daf",
   "metadata": {},
   "outputs": [
    {
     "name": "stdout",
     "output_type": "stream",
     "text": [
      "0\n"
     ]
    }
   ],
   "source": [
    "#Binary search on agnostic array\n",
    "def agnostic_search(array,target):\n",
    "    #decide which search to pick\n",
    "    if len(array) > 1 and array[0] < array[1]:\n",
    "        return b_search(array,target)\n",
    "    else:\n",
    "        return b_search_rev(array,target)\n",
    "    return -1\n",
    "res = agnostic_search(array2,5)\n",
    "print(res)"
   ]
  },
  {
   "cell_type": "code",
   "execution_count": 32,
   "id": "ea1ecd55",
   "metadata": {},
   "outputs": [
    {
     "name": "stdout",
     "output_type": "stream",
     "text": [
      "8\n"
     ]
    }
   ],
   "source": [
    "def first_occ(array,target):\n",
    "    start,end = 0, len(array)\n",
    "    res = -1\n",
    "    while(start<=end):\n",
    "        mid = start + (end-start)//2\n",
    "        if array[mid] == target:\n",
    "            res = mid\n",
    "            end = mid -1\n",
    "        elif array[mid] > target:\n",
    "            end = mid - 1\n",
    "        else:\n",
    "            start = mid + 1 \n",
    "    return res\n",
    "array3 = [0,0,0,1,5,5,7,8,9]\n",
    "res = first_occ(array3,9)\n",
    "print(res)"
   ]
  },
  {
   "cell_type": "code",
   "execution_count": 33,
   "id": "bca6055b",
   "metadata": {},
   "outputs": [
    {
     "name": "stdout",
     "output_type": "stream",
     "text": [
      "5\n"
     ]
    }
   ],
   "source": [
    "def last_occ(array,target):\n",
    "    start, end = 0, len(array) - 1\n",
    "    res = -1\n",
    "    while(start <= end):\n",
    "        mid = start + (end-start)//2\n",
    "        if array[mid] == target:\n",
    "            res = mid \n",
    "            start = mid + 1\n",
    "        if array[mid] > target:\n",
    "            end = mid - 1\n",
    "        else:\n",
    "            start = mid + 1 \n",
    "    return res\n",
    "array4 = [0,0,0,1,5,5,7,8,9]\n",
    "res = last_occ(array4,5)\n",
    "print(res)"
   ]
  },
  {
   "cell_type": "code",
   "execution_count": 34,
   "id": "81e6b53e",
   "metadata": {},
   "outputs": [
    {
     "name": "stdout",
     "output_type": "stream",
     "text": [
      "2\n"
     ]
    }
   ],
   "source": [
    "# count of an element in a sorted array\n",
    "def count_ele(array,target):\n",
    "    first_index = first_occ(array,target)\n",
    "    last_index = last_occ(array,target)\n",
    "    count = last_index - first_index + 1\n",
    "    return count\n",
    "array5 = [0,0,0,1,5,5,7,8,9]\n",
    "print(count_ele(array5,5))"
   ]
  },
  {
   "cell_type": "code",
   "execution_count": 64,
   "id": "aedce774",
   "metadata": {},
   "outputs": [
    {
     "name": "stdout",
     "output_type": "stream",
     "text": [
      "1\n"
     ]
    }
   ],
   "source": [
    "# number of times a sorted array is rotated \n",
    "def no_of_rotations(array):\n",
    "    n = len(array)\n",
    "    start,end = 0,n-1\n",
    "    while(start<=end):\n",
    "        mid = start + (end-start)//2\n",
    "        prev = (mid-1 + n)%n\n",
    "        nex = (mid+1)%n\n",
    "        if array[mid] < array[prev] and array[mid] <= array[nex]:\n",
    "            return mid\n",
    "        elif array[mid] >= array[start]:\n",
    "            start = mid + 1\n",
    "        else:\n",
    "            end = mid - 1\n",
    "    return 0\n",
    "array5 = [18,2, 3, 6, 12,15]\n",
    "print(no_of_rotations(array5))"
   ]
  },
  {
   "cell_type": "code",
   "execution_count": 72,
   "id": "73f8e3ba",
   "metadata": {},
   "outputs": [
    {
     "name": "stdout",
     "output_type": "stream",
     "text": [
      "4\n"
     ]
    }
   ],
   "source": [
    "#find an element in a rotated array\n",
    "def find_ele_in_r_array(array,target):\n",
    "    pivot = no_of_rotations(array)\n",
    "    res1 = b_search(array[:pivot],target)\n",
    "    res2 = b_search(array[pivot:],target) \n",
    "    res  = res1 if res1 != -1 else pivot + res2\n",
    "    return res\n",
    "array5 = [18,2, 3, 6, 12,15]\n",
    "print(find_ele_in_r_array(array5,12))"
   ]
  },
  {
   "cell_type": "code",
   "execution_count": null,
   "id": "adcb56cc",
   "metadata": {},
   "outputs": [],
   "source": []
  }
 ],
 "metadata": {
  "kernelspec": {
   "display_name": "Python 3 (ipykernel)",
   "language": "python",
   "name": "python3"
  },
  "language_info": {
   "codemirror_mode": {
    "name": "ipython",
    "version": 3
   },
   "file_extension": ".py",
   "mimetype": "text/x-python",
   "name": "python",
   "nbconvert_exporter": "python",
   "pygments_lexer": "ipython3",
   "version": "3.10.5"
  }
 },
 "nbformat": 4,
 "nbformat_minor": 5
}
