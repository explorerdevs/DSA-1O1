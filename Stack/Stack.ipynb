{
 "cells": [
  {
   "cell_type": "code",
   "execution_count": 4,
   "id": "3cd3a64c",
   "metadata": {},
   "outputs": [
    {
     "name": "stdout",
     "output_type": "stream",
     "text": [
      "[6, 7, 9, 9, 9, 11, -1]\n"
     ]
    }
   ],
   "source": [
    "#next greater element to right\n",
    "# [4,6,7,3,0,9,11]\n",
    "def next_greater_element(array):\n",
    "    res = []\n",
    "    stack = []\n",
    "    for i in range(len(array)-1,-1,-1):\n",
    "#         if len(stack) == 0:\n",
    "#             res.append(-1)\n",
    "#         if len(stack) > 0 and stack[-1] > array[i]:\n",
    "#             res.append(stack[-1])\n",
    "        if len(stack) > 0 and stack[-1] <= array[i]:\n",
    "            while stack and stack[-1] <= array[i]:\n",
    "                stack.pop()\n",
    "        if len(stack) == 0:\n",
    "                res.append(-1)\n",
    "        if len(stack) > 0 and stack[-1] > array[i]:\n",
    "            res.append(stack[-1]) \n",
    "        stack.append(array[i])\n",
    "    return res\n",
    "array = [4,6,7,3,0,9,11]\n",
    "res = next_greater_element(array)\n",
    "print(res[::-1])"
   ]
  },
  {
   "cell_type": "code",
   "execution_count": 7,
   "id": "4d311985",
   "metadata": {},
   "outputs": [
    {
     "name": "stdout",
     "output_type": "stream",
     "text": [
      "[3, 3, 3, 0, -1, -1, -1]\n"
     ]
    }
   ],
   "source": [
    "def next_smaller_element(array):\n",
    "    res = []\n",
    "    stack = []\n",
    "    for i in range(len(array)-1,-1,-1):\n",
    "        if stack and stack[-1] >= array[i]:\n",
    "            while stack and stack[-1] >= array[i]:\n",
    "                stack.pop()\n",
    "        if not stack:\n",
    "            res.append(-1)\n",
    "        if stack and stack[-1] < array[i]:\n",
    "            res.append(stack[-1])\n",
    "        stack.append(array[i])\n",
    "    return res\n",
    "array = [4,6,7,3,0,9,11]\n",
    "res = next_smaller_element(array)\n",
    "print(res[::-1])"
   ]
  },
  {
   "cell_type": "code",
   "execution_count": 8,
   "id": "2d2fb1c0",
   "metadata": {},
   "outputs": [
    {
     "name": "stdout",
     "output_type": "stream",
     "text": [
      "[-1, -1, -1, 7, 3, -1, -1]\n"
     ]
    }
   ],
   "source": [
    "def prev_greater_element(array):\n",
    "    res = []\n",
    "    stack = []\n",
    "    for i in range(len(array)):\n",
    "        if stack and stack[-1] <= array[i]:\n",
    "            while stack and stack[-1] <= array[i]:\n",
    "                stack.pop(-1)\n",
    "        if not stack:\n",
    "            res.append(-1)\n",
    "        if stack and stack[-1] > array[i]:\n",
    "            res.append(stack[-1])\n",
    "        stack.append(array[i])  \n",
    "    return res\n",
    "array = [4,6,7,3,0,9,11]\n",
    "res = prev_greater_element(array)\n",
    "print(res)"
   ]
  },
  {
   "cell_type": "code",
   "execution_count": 10,
   "id": "575be103",
   "metadata": {},
   "outputs": [
    {
     "name": "stdout",
     "output_type": "stream",
     "text": [
      "[-1, 4, 6, -1, -1, 0, 9]\n"
     ]
    }
   ],
   "source": [
    "def prev_smaller_element(array):\n",
    "    res = []\n",
    "    stack = []\n",
    "    for i in range(len(array)):\n",
    "        if stack and stack[-1] >= array[i]:\n",
    "            while stack and stack[-1] >= array[i]:\n",
    "                stack.pop()\n",
    "        if stack and stack[-1] < array[i]:\n",
    "            res.append(stack[-1])\n",
    "        if not stack:\n",
    "            res.append(-1)\n",
    "        stack.append(array[i])\n",
    "    return res\n",
    "array = [4,6,7,3,0,9,11]\n",
    "res = prev_smaller_element(array)\n",
    "print(res)"
   ]
  },
  {
   "cell_type": "code",
   "execution_count": null,
   "id": "d7b05848",
   "metadata": {},
   "outputs": [],
   "source": []
  }
 ],
 "metadata": {
  "kernelspec": {
   "display_name": "Python 3 (ipykernel)",
   "language": "python",
   "name": "python3"
  },
  "language_info": {
   "codemirror_mode": {
    "name": "ipython",
    "version": 3
   },
   "file_extension": ".py",
   "mimetype": "text/x-python",
   "name": "python",
   "nbconvert_exporter": "python",
   "pygments_lexer": "ipython3",
   "version": "3.10.5"
  }
 },
 "nbformat": 4,
 "nbformat_minor": 5
}
